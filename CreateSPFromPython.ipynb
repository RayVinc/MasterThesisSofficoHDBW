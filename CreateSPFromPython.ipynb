{
 "cells": [
  {
   "cell_type": "code",
   "execution_count": 22,
   "metadata": {},
   "outputs": [
    {
     "data": {
      "text/plain": [
       "True"
      ]
     },
     "execution_count": 22,
     "metadata": {},
     "output_type": "execute_result"
    }
   ],
   "source": [
    "import sqlmlutils\n",
    "import pytest\n",
    "\n",
    "\n",
    "connection = sqlmlutils.ConnectionInfo(\n",
    "    server=\"myServerName\",\n",
    "    database=\"myDatabaseName\",\n",
    "    uid=\"sa\", \n",
    "    pwd=\"myPassword\"\n",
    ")\n",
    "\n",
    "def testSP():\n",
    "    import pandas as pd\n",
    "    import numpy as np\n",
    "    import pyodbc\n",
    "\n",
    "    conn = pyodbc.connect(r\"driver={SQL SERVER};server=myServerName;database=myDatabaseName;trusted_connection=YES;\")\n",
    "    query2 = \"SELECT TOP (1000) [PRS_START_TIME],[PRS_END_TIME],[PRS_STATE],[PRS_BUSINESS_KEY],try_convert(float, RIGHT(PRS_Business_key, len(PRS_BUSINESS_KEY) - charindex(':', prs_business_key))) as Business_Key, try_convert(float, DATEDIFF(MILLISECOND, PRS_START_TIME,PRS_END_TIME)) as Process_Time FROM [ORCHESTRA].[dbo].[ORC_PROCESS_STATE];\"\n",
    "    SQLquery = pd.read_sql_query(query2, conn)\n",
    "\n",
    "\n",
    "    df = pd.DataFrame(SQLquery, columns=['PRS_START_TIME','PRS_END_TIME','PRS_STATE','Business_Key', 'Process_Time'])\n",
    "\n",
    "    from sklearn.model_selection import train_test_split\n",
    "\n",
    "    y = df['PRS_STATE']\n",
    "    X = df[['Business_Key', 'Process_Time']]\n",
    "\n",
    "    X_train, X_test, y_train, y_test = train_test_split(X, y, test_size=0.3, random_state=101)\n",
    "\n",
    "    from sklearn.tree import DecisionTreeClassifier\n",
    "\n",
    "    dtree = DecisionTreeClassifier()\n",
    "    dtree.fit(X_train,y_train)\n",
    "\n",
    "    predictions = dtree.predict(X_test)\n",
    "    print(predictions)\n",
    "    \n",
    "sqlpy = sqlmlutils.SQLPythonExecutor(connection)\n",
    "sp_name = \"pyTestFunctionToStoredProc\"\n",
    "\n",
    "sqlpy.drop_sproc(sp_name)\n",
    "sqlpy.create_sproc_from_function(sp_name, testSP)"
   ]
  },
  {
   "cell_type": "code",
   "execution_count": null,
   "metadata": {},
   "outputs": [],
   "source": []
  }
 ],
 "metadata": {
  "kernelspec": {
   "display_name": "Python 3",
   "language": "python",
   "name": "python3"
  },
  "language_info": {
   "codemirror_mode": {
    "name": "ipython",
    "version": 3
   },
   "file_extension": ".py",
   "mimetype": "text/x-python",
   "name": "python",
   "nbconvert_exporter": "python",
   "pygments_lexer": "ipython3",
   "version": "3.8.8"
  }
 },
 "nbformat": 4,
 "nbformat_minor": 4
}
