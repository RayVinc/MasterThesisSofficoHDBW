{
 "cells": [
  {
   "cell_type": "code",
   "execution_count": 53,
   "metadata": {},
   "outputs": [],
   "source": [
    "import pandas as pd\n",
    "import numpy as np\n",
    "import matplotlib.pyplot as plt\n",
    "import seaborn as sns\n",
    "import pyodbc\n",
    "%matplotlib inline"
   ]
  },
  {
   "cell_type": "code",
   "execution_count": 54,
   "metadata": {},
   "outputs": [],
   "source": [
    "conn = pyodbc.connect(r\"driver={SQL SERVER};server=LAPTOP-V88UBQAA\\SQLSERVERVINCENT;database=AdventureWorks2016;trusted_connection=YES;\")\n",
    "conx_string = \"driver={SQL SERVER};server=LAPTOP-V88UBQAA\\SQLSERVERVINCENT;database=AdventureWorks2016;trusted_connection=YES;\"\n",
    "query2 = \"SELECT TOP (1000) [PRS_START_TIME],[PRS_END_TIME],[PRS_STATE],[PRS_BUSINESS_KEY],try_convert(float, RIGHT(PRS_Business_key, len(PRS_BUSINESS_KEY) - charindex(':', prs_business_key))) as Business_Key, try_convert(float, DATEDIFF(MILLISECOND, PRS_START_TIME,PRS_END_TIME)) as Process_Time FROM [ORCHESTRA].[dbo].[ORC_PROCESS_STATE];\"\n",
    "SQLquery = pd.read_sql_query(query2, conn)\n",
    "conx = pyodbc.connect(conx_string);\n",
    "cursor = conx.cursor();\n",
    "cursor.execute(query2);\n",
    "data = cursor.fetchall()"
   ]
  },
  {
   "cell_type": "code",
   "execution_count": 55,
   "metadata": {},
   "outputs": [],
   "source": [
    "df = pd.DataFrame(SQLquery, columns=['PRS_START_TIME','PRS_END_TIME','PRS_STATE','Business_Key', 'Process_Time'])"
   ]
  },
  {
   "cell_type": "code",
   "execution_count": 56,
   "metadata": {},
   "outputs": [
    {
     "data": {
      "text/html": [
       "<div>\n",
       "<style scoped>\n",
       "    .dataframe tbody tr th:only-of-type {\n",
       "        vertical-align: middle;\n",
       "    }\n",
       "\n",
       "    .dataframe tbody tr th {\n",
       "        vertical-align: top;\n",
       "    }\n",
       "\n",
       "    .dataframe thead th {\n",
       "        text-align: right;\n",
       "    }\n",
       "</style>\n",
       "<table border=\"1\" class=\"dataframe\">\n",
       "  <thead>\n",
       "    <tr style=\"text-align: right;\">\n",
       "      <th></th>\n",
       "      <th>PRS_START_TIME</th>\n",
       "      <th>PRS_END_TIME</th>\n",
       "      <th>PRS_STATE</th>\n",
       "      <th>Business_Key</th>\n",
       "      <th>Process_Time</th>\n",
       "    </tr>\n",
       "  </thead>\n",
       "  <tbody>\n",
       "    <tr>\n",
       "      <th>0</th>\n",
       "      <td>2021-08-11 13:31:16.600</td>\n",
       "      <td>2021-08-11 13:31:24.687</td>\n",
       "      <td>9.0</td>\n",
       "      <td>0.868326</td>\n",
       "      <td>8086.0</td>\n",
       "    </tr>\n",
       "    <tr>\n",
       "      <th>1</th>\n",
       "      <td>2021-08-11 13:31:36.573</td>\n",
       "      <td>2021-08-11 13:31:44.613</td>\n",
       "      <td>9.0</td>\n",
       "      <td>0.889375</td>\n",
       "      <td>8040.0</td>\n",
       "    </tr>\n",
       "    <tr>\n",
       "      <th>2</th>\n",
       "      <td>2021-08-11 13:32:36.583</td>\n",
       "      <td>2021-08-11 13:32:44.660</td>\n",
       "      <td>9.0</td>\n",
       "      <td>0.968228</td>\n",
       "      <td>8077.0</td>\n",
       "    </tr>\n",
       "    <tr>\n",
       "      <th>3</th>\n",
       "      <td>2021-08-11 13:34:16.583</td>\n",
       "      <td>2021-08-11 13:34:24.677</td>\n",
       "      <td>9.0</td>\n",
       "      <td>0.868139</td>\n",
       "      <td>8093.0</td>\n",
       "    </tr>\n",
       "    <tr>\n",
       "      <th>4</th>\n",
       "      <td>2021-08-11 13:34:36.583</td>\n",
       "      <td>2021-08-11 13:34:44.643</td>\n",
       "      <td>9.0</td>\n",
       "      <td>0.958527</td>\n",
       "      <td>8060.0</td>\n",
       "    </tr>\n",
       "    <tr>\n",
       "      <th>5</th>\n",
       "      <td>2021-08-11 13:35:06.577</td>\n",
       "      <td>2021-08-11 13:35:14.670</td>\n",
       "      <td>9.0</td>\n",
       "      <td>0.898868</td>\n",
       "      <td>8094.0</td>\n",
       "    </tr>\n",
       "    <tr>\n",
       "      <th>6</th>\n",
       "      <td>2021-08-11 13:36:26.573</td>\n",
       "      <td>2021-08-11 13:36:34.647</td>\n",
       "      <td>9.0</td>\n",
       "      <td>0.817538</td>\n",
       "      <td>8073.0</td>\n",
       "    </tr>\n",
       "    <tr>\n",
       "      <th>7</th>\n",
       "      <td>2021-08-11 13:37:16.577</td>\n",
       "      <td>2021-08-11 13:37:24.637</td>\n",
       "      <td>9.0</td>\n",
       "      <td>0.805893</td>\n",
       "      <td>8060.0</td>\n",
       "    </tr>\n",
       "    <tr>\n",
       "      <th>8</th>\n",
       "      <td>2021-08-11 13:37:46.567</td>\n",
       "      <td>2021-08-11 13:37:54.627</td>\n",
       "      <td>9.0</td>\n",
       "      <td>0.936005</td>\n",
       "      <td>8060.0</td>\n",
       "    </tr>\n",
       "    <tr>\n",
       "      <th>9</th>\n",
       "      <td>2021-08-11 13:40:16.567</td>\n",
       "      <td>2021-08-11 13:40:24.623</td>\n",
       "      <td>9.0</td>\n",
       "      <td>0.816041</td>\n",
       "      <td>8057.0</td>\n",
       "    </tr>\n",
       "    <tr>\n",
       "      <th>10</th>\n",
       "      <td>2021-08-11 13:40:26.573</td>\n",
       "      <td>2021-08-11 13:40:34.613</td>\n",
       "      <td>9.0</td>\n",
       "      <td>0.995729</td>\n",
       "      <td>8040.0</td>\n",
       "    </tr>\n",
       "    <tr>\n",
       "      <th>11</th>\n",
       "      <td>2021-08-11 13:40:56.567</td>\n",
       "      <td>2021-08-11 13:41:04.620</td>\n",
       "      <td>9.0</td>\n",
       "      <td>0.821965</td>\n",
       "      <td>8054.0</td>\n",
       "    </tr>\n",
       "    <tr>\n",
       "      <th>12</th>\n",
       "      <td>2021-08-11 13:42:46.573</td>\n",
       "      <td>2021-08-11 13:42:54.637</td>\n",
       "      <td>9.0</td>\n",
       "      <td>0.982482</td>\n",
       "      <td>8063.0</td>\n",
       "    </tr>\n",
       "    <tr>\n",
       "      <th>13</th>\n",
       "      <td>2021-08-11 13:43:26.563</td>\n",
       "      <td>2021-08-11 13:43:34.607</td>\n",
       "      <td>9.0</td>\n",
       "      <td>0.873387</td>\n",
       "      <td>8043.0</td>\n",
       "    </tr>\n",
       "    <tr>\n",
       "      <th>14</th>\n",
       "      <td>2021-08-11 13:43:36.563</td>\n",
       "      <td>2021-08-11 13:43:44.603</td>\n",
       "      <td>9.0</td>\n",
       "      <td>0.930594</td>\n",
       "      <td>8040.0</td>\n",
       "    </tr>\n",
       "    <tr>\n",
       "      <th>15</th>\n",
       "      <td>2021-08-11 13:43:46.570</td>\n",
       "      <td>2021-08-11 13:43:54.607</td>\n",
       "      <td>9.0</td>\n",
       "      <td>0.917592</td>\n",
       "      <td>8036.0</td>\n",
       "    </tr>\n",
       "    <tr>\n",
       "      <th>16</th>\n",
       "      <td>2021-08-11 13:43:56.590</td>\n",
       "      <td>2021-08-11 13:44:04.673</td>\n",
       "      <td>9.0</td>\n",
       "      <td>0.944554</td>\n",
       "      <td>8083.0</td>\n",
       "    </tr>\n",
       "    <tr>\n",
       "      <th>17</th>\n",
       "      <td>2021-08-11 13:46:06.587</td>\n",
       "      <td>2021-08-11 13:46:14.663</td>\n",
       "      <td>9.0</td>\n",
       "      <td>0.851359</td>\n",
       "      <td>8077.0</td>\n",
       "    </tr>\n",
       "    <tr>\n",
       "      <th>18</th>\n",
       "      <td>2021-08-11 13:46:16.577</td>\n",
       "      <td>2021-08-11 13:46:24.643</td>\n",
       "      <td>9.0</td>\n",
       "      <td>0.833307</td>\n",
       "      <td>8067.0</td>\n",
       "    </tr>\n",
       "    <tr>\n",
       "      <th>19</th>\n",
       "      <td>2021-08-11 13:46:26.567</td>\n",
       "      <td>2021-08-11 13:46:34.610</td>\n",
       "      <td>9.0</td>\n",
       "      <td>0.927600</td>\n",
       "      <td>8044.0</td>\n",
       "    </tr>\n",
       "  </tbody>\n",
       "</table>\n",
       "</div>"
      ],
      "text/plain": [
       "            PRS_START_TIME            PRS_END_TIME  PRS_STATE  Business_Key  \\\n",
       "0  2021-08-11 13:31:16.600 2021-08-11 13:31:24.687        9.0      0.868326   \n",
       "1  2021-08-11 13:31:36.573 2021-08-11 13:31:44.613        9.0      0.889375   \n",
       "2  2021-08-11 13:32:36.583 2021-08-11 13:32:44.660        9.0      0.968228   \n",
       "3  2021-08-11 13:34:16.583 2021-08-11 13:34:24.677        9.0      0.868139   \n",
       "4  2021-08-11 13:34:36.583 2021-08-11 13:34:44.643        9.0      0.958527   \n",
       "5  2021-08-11 13:35:06.577 2021-08-11 13:35:14.670        9.0      0.898868   \n",
       "6  2021-08-11 13:36:26.573 2021-08-11 13:36:34.647        9.0      0.817538   \n",
       "7  2021-08-11 13:37:16.577 2021-08-11 13:37:24.637        9.0      0.805893   \n",
       "8  2021-08-11 13:37:46.567 2021-08-11 13:37:54.627        9.0      0.936005   \n",
       "9  2021-08-11 13:40:16.567 2021-08-11 13:40:24.623        9.0      0.816041   \n",
       "10 2021-08-11 13:40:26.573 2021-08-11 13:40:34.613        9.0      0.995729   \n",
       "11 2021-08-11 13:40:56.567 2021-08-11 13:41:04.620        9.0      0.821965   \n",
       "12 2021-08-11 13:42:46.573 2021-08-11 13:42:54.637        9.0      0.982482   \n",
       "13 2021-08-11 13:43:26.563 2021-08-11 13:43:34.607        9.0      0.873387   \n",
       "14 2021-08-11 13:43:36.563 2021-08-11 13:43:44.603        9.0      0.930594   \n",
       "15 2021-08-11 13:43:46.570 2021-08-11 13:43:54.607        9.0      0.917592   \n",
       "16 2021-08-11 13:43:56.590 2021-08-11 13:44:04.673        9.0      0.944554   \n",
       "17 2021-08-11 13:46:06.587 2021-08-11 13:46:14.663        9.0      0.851359   \n",
       "18 2021-08-11 13:46:16.577 2021-08-11 13:46:24.643        9.0      0.833307   \n",
       "19 2021-08-11 13:46:26.567 2021-08-11 13:46:34.610        9.0      0.927600   \n",
       "\n",
       "    Process_Time  \n",
       "0         8086.0  \n",
       "1         8040.0  \n",
       "2         8077.0  \n",
       "3         8093.0  \n",
       "4         8060.0  \n",
       "5         8094.0  \n",
       "6         8073.0  \n",
       "7         8060.0  \n",
       "8         8060.0  \n",
       "9         8057.0  \n",
       "10        8040.0  \n",
       "11        8054.0  \n",
       "12        8063.0  \n",
       "13        8043.0  \n",
       "14        8040.0  \n",
       "15        8036.0  \n",
       "16        8083.0  \n",
       "17        8077.0  \n",
       "18        8067.0  \n",
       "19        8044.0  "
      ]
     },
     "execution_count": 56,
     "metadata": {},
     "output_type": "execute_result"
    }
   ],
   "source": [
    "df.head(20)"
   ]
  },
  {
   "cell_type": "code",
   "execution_count": 57,
   "metadata": {},
   "outputs": [
    {
     "data": {
      "text/html": [
       "<div>\n",
       "<style scoped>\n",
       "    .dataframe tbody tr th:only-of-type {\n",
       "        vertical-align: middle;\n",
       "    }\n",
       "\n",
       "    .dataframe tbody tr th {\n",
       "        vertical-align: top;\n",
       "    }\n",
       "\n",
       "    .dataframe thead th {\n",
       "        text-align: right;\n",
       "    }\n",
       "</style>\n",
       "<table border=\"1\" class=\"dataframe\">\n",
       "  <thead>\n",
       "    <tr style=\"text-align: right;\">\n",
       "      <th></th>\n",
       "      <th>PRS_STATE</th>\n",
       "      <th>Business_Key</th>\n",
       "      <th>Process_Time</th>\n",
       "    </tr>\n",
       "  </thead>\n",
       "  <tbody>\n",
       "    <tr>\n",
       "      <th>count</th>\n",
       "      <td>323.000000</td>\n",
       "      <td>323.000000</td>\n",
       "      <td>3.230000e+02</td>\n",
       "    </tr>\n",
       "    <tr>\n",
       "      <th>mean</th>\n",
       "      <td>4.801858</td>\n",
       "      <td>0.563887</td>\n",
       "      <td>4.896317e+04</td>\n",
       "    </tr>\n",
       "    <tr>\n",
       "      <th>std</th>\n",
       "      <td>2.754623</td>\n",
       "      <td>0.292673</td>\n",
       "      <td>7.710789e+05</td>\n",
       "    </tr>\n",
       "    <tr>\n",
       "      <th>min</th>\n",
       "      <td>3.000000</td>\n",
       "      <td>0.001954</td>\n",
       "      <td>3.700000e+01</td>\n",
       "    </tr>\n",
       "    <tr>\n",
       "      <th>25%</th>\n",
       "      <td>3.000000</td>\n",
       "      <td>0.311733</td>\n",
       "      <td>4.265000e+03</td>\n",
       "    </tr>\n",
       "    <tr>\n",
       "      <th>50%</th>\n",
       "      <td>3.000000</td>\n",
       "      <td>0.598368</td>\n",
       "      <td>7.050000e+03</td>\n",
       "    </tr>\n",
       "    <tr>\n",
       "      <th>75%</th>\n",
       "      <td>9.000000</td>\n",
       "      <td>0.826114</td>\n",
       "      <td>8.057000e+03</td>\n",
       "    </tr>\n",
       "    <tr>\n",
       "      <th>max</th>\n",
       "      <td>9.000000</td>\n",
       "      <td>0.995729</td>\n",
       "      <td>1.386396e+07</td>\n",
       "    </tr>\n",
       "  </tbody>\n",
       "</table>\n",
       "</div>"
      ],
      "text/plain": [
       "        PRS_STATE  Business_Key  Process_Time\n",
       "count  323.000000    323.000000  3.230000e+02\n",
       "mean     4.801858      0.563887  4.896317e+04\n",
       "std      2.754623      0.292673  7.710789e+05\n",
       "min      3.000000      0.001954  3.700000e+01\n",
       "25%      3.000000      0.311733  4.265000e+03\n",
       "50%      3.000000      0.598368  7.050000e+03\n",
       "75%      9.000000      0.826114  8.057000e+03\n",
       "max      9.000000      0.995729  1.386396e+07"
      ]
     },
     "execution_count": 57,
     "metadata": {},
     "output_type": "execute_result"
    }
   ],
   "source": [
    "df.describe()"
   ]
  },
  {
   "cell_type": "code",
   "execution_count": 58,
   "metadata": {},
   "outputs": [
    {
     "name": "stdout",
     "output_type": "stream",
     "text": [
      "<class 'pandas.core.frame.DataFrame'>\n",
      "RangeIndex: 323 entries, 0 to 322\n",
      "Data columns (total 5 columns):\n",
      " #   Column          Non-Null Count  Dtype         \n",
      "---  ------          --------------  -----         \n",
      " 0   PRS_START_TIME  323 non-null    datetime64[ns]\n",
      " 1   PRS_END_TIME    323 non-null    datetime64[ns]\n",
      " 2   PRS_STATE       323 non-null    float64       \n",
      " 3   Business_Key    323 non-null    float64       \n",
      " 4   Process_Time    323 non-null    float64       \n",
      "dtypes: datetime64[ns](2), float64(3)\n",
      "memory usage: 12.7 KB\n"
     ]
    }
   ],
   "source": [
    "df.info()"
   ]
  },
  {
   "cell_type": "code",
   "execution_count": 59,
   "metadata": {},
   "outputs": [],
   "source": [
    "sns.set_palette(\"GnBu_d\")\n",
    "sns.set_style('whitegrid')"
   ]
  },
  {
   "cell_type": "code",
   "execution_count": 60,
   "metadata": {},
   "outputs": [],
   "source": [
    "df = df.drop(31, axis=0)"
   ]
  },
  {
   "cell_type": "code",
   "execution_count": 61,
   "metadata": {
    "scrolled": false
   },
   "outputs": [
    {
     "data": {
      "text/plain": [
       "<seaborn.axisgrid.JointGrid at 0x22085950eb0>"
      ]
     },
     "execution_count": 61,
     "metadata": {},
     "output_type": "execute_result"
    },
    {
     "data": {
      "image/png": "[encoded data removed]",
      "text/plain": [
       "<Figure size 432x432 with 3 Axes>"
      ]
     },
     "metadata": {},
     "output_type": "display_data"
    }
   ],
   "source": [
    "sns.jointplot(x='Process_Time',y='Business_Key',data=df)"
   ]
  },
  {
   "cell_type": "code",
   "execution_count": 62,
   "metadata": {},
   "outputs": [
    {
     "data": {
      "text/plain": [
       "<seaborn.axisgrid.PairGrid at 0x22085d3e1f0>"
      ]
     },
     "execution_count": 62,
     "metadata": {},
     "output_type": "execute_result"
    },
    {
     "data": {
      "image/png": "[encoded data removed]",
      "text/plain": [
       "<Figure size 540x540 with 12 Axes>"
      ]
     },
     "metadata": {},
     "output_type": "display_data"
    }
   ],
   "source": [
    "sns.pairplot(df)"
   ]
  },
  {
   "cell_type": "code",
   "execution_count": 63,
   "metadata": {},
   "outputs": [],
   "source": [
    "from sklearn.model_selection import train_test_split"
   ]
  },
  {
   "cell_type": "code",
   "execution_count": 64,
   "metadata": {},
   "outputs": [],
   "source": [
    "y = df['PRS_STATE']\n",
    "X = df[['Business_Key', 'Process_Time']]"
   ]
  },
  {
   "cell_type": "code",
   "execution_count": 65,
   "metadata": {},
   "outputs": [],
   "source": [
    "X_train, X_test, y_train, y_test = train_test_split(X, y, test_size=0.3, random_state=101)"
   ]
  },
  {
   "cell_type": "code",
   "execution_count": 66,
   "metadata": {},
   "outputs": [],
   "source": [
    "from sklearn.tree import DecisionTreeClassifier"
   ]
  },
  {
   "cell_type": "code",
   "execution_count": 67,
   "metadata": {},
   "outputs": [
    {
     "data": {
      "text/plain": [
       "DecisionTreeClassifier()"
      ]
     },
     "execution_count": 67,
     "metadata": {},
     "output_type": "execute_result"
    }
   ],
   "source": [
    "dtree = DecisionTreeClassifier()\n",
    "dtree.fit(X_train,y_train)"
   ]
  },
  {
   "cell_type": "code",
   "execution_count": 68,
   "metadata": {},
   "outputs": [
    {
     "data": {
      "text/plain": [
       "array([3., 3., 3., 9., 3., 3., 9., 9., 3., 3., 3., 9., 9., 9., 3., 9., 3.,\n",
       "       3., 9., 9., 3., 3., 3., 9., 9., 3., 3., 3., 3., 9., 3., 3., 3., 3.,\n",
       "       9., 3., 3., 3., 3., 9., 3., 3., 9., 3., 9., 3., 3., 9., 9., 9., 9.,\n",
       "       3., 9., 3., 3., 3., 3., 9., 3., 3., 3., 3., 3., 3., 3., 3., 3., 9.,\n",
       "       3., 3., 3., 3., 3., 9., 3., 3., 3., 9., 9., 9., 3., 3., 3., 3., 3.,\n",
       "       3., 9., 9., 3., 3., 9., 3., 3., 9., 3., 3., 3.])"
      ]
     },
     "execution_count": 68,
     "metadata": {},
     "output_type": "execute_result"
    }
   ],
   "source": [
    "predictions = dtree.predict(X_test)\n",
    "predictions"
   ]
  },
  {
   "cell_type": "code",
   "execution_count": 69,
   "metadata": {},
   "outputs": [],
   "source": [
    "from sklearn.metrics import classification_report,confusion_matrix"
   ]
  },
  {
   "cell_type": "code",
   "execution_count": 70,
   "metadata": {},
   "outputs": [
    {
     "name": "stdout",
     "output_type": "stream",
     "text": [
      "              precision    recall  f1-score   support\n",
      "\n",
      "         3.0       1.00      1.00      1.00        66\n",
      "         9.0       1.00      1.00      1.00        31\n",
      "\n",
      "    accuracy                           1.00        97\n",
      "   macro avg       1.00      1.00      1.00        97\n",
      "weighted avg       1.00      1.00      1.00        97\n",
      "\n",
      "\n",
      "\n",
      "[[66  0]\n",
      " [ 0 31]]\n"
     ]
    }
   ],
   "source": [
    "print(classification_report(y_test,predictions))\n",
    "print('\\n')\n",
    "print(confusion_matrix(y_test,predictions))"
   ]
  },
  {
   "cell_type": "code",
   "execution_count": 77,
   "metadata": {},
   "outputs": [
    {
     "data": {
      "text/html": [
       "<div>\n",
       "<style scoped>\n",
       "    .dataframe tbody tr th:only-of-type {\n",
       "        vertical-align: middle;\n",
       "    }\n",
       "\n",
       "    .dataframe tbody tr th {\n",
       "        vertical-align: top;\n",
       "    }\n",
       "\n",
       "    .dataframe thead th {\n",
       "        text-align: right;\n",
       "    }\n",
       "</style>\n",
       "<table border=\"1\" class=\"dataframe\">\n",
       "  <thead>\n",
       "    <tr style=\"text-align: right;\">\n",
       "      <th></th>\n",
       "      <th>PRS_START_TIME</th>\n",
       "      <th>PRS_END_TIME</th>\n",
       "      <th>PRS_STATE</th>\n",
       "      <th>Business_Key</th>\n",
       "      <th>Process_Time</th>\n",
       "      <th>pred</th>\n",
       "    </tr>\n",
       "  </thead>\n",
       "  <tbody>\n",
       "    <tr>\n",
       "      <th>0</th>\n",
       "      <td>2021-08-11 13:31:16.600</td>\n",
       "      <td>2021-08-11 13:31:24.687</td>\n",
       "      <td>9.0</td>\n",
       "      <td>0.868326</td>\n",
       "      <td>8086.0</td>\n",
       "      <td>9.0</td>\n",
       "    </tr>\n",
       "    <tr>\n",
       "      <th>1</th>\n",
       "      <td>2021-08-11 13:31:36.573</td>\n",
       "      <td>2021-08-11 13:31:44.613</td>\n",
       "      <td>9.0</td>\n",
       "      <td>0.889375</td>\n",
       "      <td>8040.0</td>\n",
       "      <td>9.0</td>\n",
       "    </tr>\n",
       "    <tr>\n",
       "      <th>2</th>\n",
       "      <td>2021-08-11 13:32:36.583</td>\n",
       "      <td>2021-08-11 13:32:44.660</td>\n",
       "      <td>9.0</td>\n",
       "      <td>0.968228</td>\n",
       "      <td>8077.0</td>\n",
       "      <td>9.0</td>\n",
       "    </tr>\n",
       "    <tr>\n",
       "      <th>3</th>\n",
       "      <td>2021-08-11 13:34:16.583</td>\n",
       "      <td>2021-08-11 13:34:24.677</td>\n",
       "      <td>9.0</td>\n",
       "      <td>0.868139</td>\n",
       "      <td>8093.0</td>\n",
       "      <td>9.0</td>\n",
       "    </tr>\n",
       "    <tr>\n",
       "      <th>4</th>\n",
       "      <td>2021-08-11 13:34:36.583</td>\n",
       "      <td>2021-08-11 13:34:44.643</td>\n",
       "      <td>9.0</td>\n",
       "      <td>0.958527</td>\n",
       "      <td>8060.0</td>\n",
       "      <td>9.0</td>\n",
       "    </tr>\n",
       "    <tr>\n",
       "      <th>...</th>\n",
       "      <td>...</td>\n",
       "      <td>...</td>\n",
       "      <td>...</td>\n",
       "      <td>...</td>\n",
       "      <td>...</td>\n",
       "      <td>...</td>\n",
       "    </tr>\n",
       "    <tr>\n",
       "      <th>96</th>\n",
       "      <td>2021-08-11 17:59:00.543</td>\n",
       "      <td>2021-08-11 17:59:08.243</td>\n",
       "      <td>3.0</td>\n",
       "      <td>0.752130</td>\n",
       "      <td>7700.0</td>\n",
       "      <td>3.0</td>\n",
       "    </tr>\n",
       "    <tr>\n",
       "      <th>97</th>\n",
       "      <td>2021-08-11 17:59:10.557</td>\n",
       "      <td>2021-08-11 17:59:16.483</td>\n",
       "      <td>3.0</td>\n",
       "      <td>0.558908</td>\n",
       "      <td>5927.0</td>\n",
       "      <td>3.0</td>\n",
       "    </tr>\n",
       "    <tr>\n",
       "      <th>98</th>\n",
       "      <td>2021-08-11 17:59:20.547</td>\n",
       "      <td>2021-08-11 17:59:28.603</td>\n",
       "      <td>9.0</td>\n",
       "      <td>0.973905</td>\n",
       "      <td>8057.0</td>\n",
       "      <td>9.0</td>\n",
       "    </tr>\n",
       "    <tr>\n",
       "      <th>99</th>\n",
       "      <td>2021-08-11 17:59:30.547</td>\n",
       "      <td>2021-08-11 17:59:35.110</td>\n",
       "      <td>3.0</td>\n",
       "      <td>0.627334</td>\n",
       "      <td>4564.0</td>\n",
       "      <td>3.0</td>\n",
       "    </tr>\n",
       "    <tr>\n",
       "      <th>100</th>\n",
       "      <td>2021-08-11 17:59:40.543</td>\n",
       "      <td>2021-08-11 17:59:40.780</td>\n",
       "      <td>3.0</td>\n",
       "      <td>0.013974</td>\n",
       "      <td>237.0</td>\n",
       "      <td>3.0</td>\n",
       "    </tr>\n",
       "  </tbody>\n",
       "</table>\n",
       "<p>100 rows × 6 columns</p>\n",
       "</div>"
      ],
      "text/plain": [
       "             PRS_START_TIME            PRS_END_TIME  PRS_STATE  Business_Key  \\\n",
       "0   2021-08-11 13:31:16.600 2021-08-11 13:31:24.687        9.0      0.868326   \n",
       "1   2021-08-11 13:31:36.573 2021-08-11 13:31:44.613        9.0      0.889375   \n",
       "2   2021-08-11 13:32:36.583 2021-08-11 13:32:44.660        9.0      0.968228   \n",
       "3   2021-08-11 13:34:16.583 2021-08-11 13:34:24.677        9.0      0.868139   \n",
       "4   2021-08-11 13:34:36.583 2021-08-11 13:34:44.643        9.0      0.958527   \n",
       "..                      ...                     ...        ...           ...   \n",
       "96  2021-08-11 17:59:00.543 2021-08-11 17:59:08.243        3.0      0.752130   \n",
       "97  2021-08-11 17:59:10.557 2021-08-11 17:59:16.483        3.0      0.558908   \n",
       "98  2021-08-11 17:59:20.547 2021-08-11 17:59:28.603        9.0      0.973905   \n",
       "99  2021-08-11 17:59:30.547 2021-08-11 17:59:35.110        3.0      0.627334   \n",
       "100 2021-08-11 17:59:40.543 2021-08-11 17:59:40.780        3.0      0.013974   \n",
       "\n",
       "     Process_Time  pred  \n",
       "0          8086.0   9.0  \n",
       "1          8040.0   9.0  \n",
       "2          8077.0   9.0  \n",
       "3          8093.0   9.0  \n",
       "4          8060.0   9.0  \n",
       "..            ...   ...  \n",
       "96         7700.0   3.0  \n",
       "97         5927.0   3.0  \n",
       "98         8057.0   9.0  \n",
       "99         4564.0   3.0  \n",
       "100         237.0   3.0  \n",
       "\n",
       "[100 rows x 6 columns]"
      ]
     },
     "execution_count": 77,
     "metadata": {},
     "output_type": "execute_result"
    }
   ],
   "source": [
    "y_all = dtree.predict(X)\n",
    "\n",
    "df['pred'] = y_all\n",
    "df.head(100)"
   ]
  },
  {
   "cell_type": "code",
   "execution_count": 88,
   "metadata": {},
   "outputs": [
    {
     "data": {
      "text/plain": [
       "<seaborn.axisgrid.FacetGrid at 0x2208750e880>"
      ]
     },
     "execution_count": 88,
     "metadata": {},
     "output_type": "execute_result"
    },
    {
     "data": {
      "image/png": "[encoded data removed]",
      "text/plain": [
       "<Figure size 482x432 with 1 Axes>"
      ]
     },
     "metadata": {},
     "output_type": "display_data"
    }
   ],
   "source": [
    "#Visualize prediction results with hue='pred'\n",
    "sns.set_style('whitegrid')\n",
    "sns.lmplot('Business_Key','Process_Time',data=df, hue='pred',\n",
    "           palette='Oranges',height=6,aspect=1,fit_reg=False)"
   ]
  },
  {
   "cell_type": "code",
   "execution_count": 89,
   "metadata": {},
   "outputs": [
    {
     "name": "stdout",
     "output_type": "stream",
     "text": [
      "Requirement already satisfied: graphviz in c:\\programdata\\anaconda3\\lib\\site-packages (0.15)\n",
      "Note: you may need to restart the kernel to use updated packages.\n",
      "Requirement already satisfied: pydot in c:\\programdata\\anaconda3\\lib\\site-packages (1.4.2)\n",
      "Requirement already satisfied: pyparsing>=2.1.4 in c:\\programdata\\anaconda3\\lib\\site-packages (from pydot) (2.4.7)\n",
      "Note: you may need to restart the kernel to use updated packages.\n",
      "Requirement already satisfied: six in c:\\programdata\\anaconda3\\lib\\site-packages (1.15.0)\n",
      "Note: you may need to restart the kernel to use updated packages.\n"
     ]
    }
   ],
   "source": [
    "%pip install graphviz\n",
    "    \n",
    "%pip install pydot\n",
    "\n",
    "%pip install six"
   ]
  },
  {
   "cell_type": "code",
   "execution_count": 90,
   "metadata": {},
   "outputs": [
    {
     "data": {
      "text/plain": [
       "['Business_Key', 'Process_Time']"
      ]
     },
     "execution_count": 90,
     "metadata": {},
     "output_type": "execute_result"
    }
   ],
   "source": [
    "from IPython.display import Image  \n",
    "from six import StringIO  \n",
    "from sklearn.tree import export_graphviz\n",
    "import pydot \n",
    "\n",
    "features = list(df[['Business_Key', 'Process_Time']])\n",
    "features"
   ]
  },
  {
   "cell_type": "code",
   "execution_count": 91,
   "metadata": {},
   "outputs": [
    {
     "data": {
      "image/png": "[encoded data removed]",
      "text/plain": [
       "<IPython.core.display.Image object>"
      ]
     },
     "execution_count": 91,
     "metadata": {},
     "output_type": "execute_result"
    }
   ],
   "source": [
    "dot_data = StringIO()  \n",
    "export_graphviz(dtree, out_file=dot_data,feature_names=features,filled=True,rounded=True)\n",
    "\n",
    "graph = pydot.graph_from_dot_data(dot_data.getvalue())  \n",
    "Image(graph[0].create_png()) "
   ]
  },
  {
   "cell_type": "code",
   "execution_count": 92,
   "metadata": {},
   "outputs": [],
   "source": [
    "##Random Forrest\n",
    "from sklearn.ensemble import RandomForestClassifier"
   ]
  },
  {
   "cell_type": "code",
   "execution_count": 93,
   "metadata": {},
   "outputs": [],
   "source": [
    "rfc = RandomForestClassifier(n_estimators=100)"
   ]
  },
  {
   "cell_type": "code",
   "execution_count": 94,
   "metadata": {},
   "outputs": [
    {
     "data": {
      "text/plain": [
       "RandomForestClassifier()"
      ]
     },
     "execution_count": 94,
     "metadata": {},
     "output_type": "execute_result"
    }
   ],
   "source": [
    "rfc.fit(X_train, y_train)"
   ]
  },
  {
   "cell_type": "code",
   "execution_count": 95,
   "metadata": {},
   "outputs": [
    {
     "data": {
      "text/plain": [
       "array([3., 3., 3., 9., 3., 3., 9., 9., 3., 3., 3., 9., 9., 9., 3., 9., 3.,\n",
       "       3., 9., 9., 3., 3., 3., 9., 9., 3., 3., 3., 3., 9., 3., 3., 3., 3.,\n",
       "       9., 3., 3., 3., 3., 9., 3., 3., 9., 3., 9., 3., 3., 9., 9., 9., 9.,\n",
       "       3., 9., 3., 3., 3., 3., 9., 3., 3., 3., 3., 3., 3., 3., 3., 3., 9.,\n",
       "       3., 3., 3., 3., 3., 9., 3., 3., 3., 9., 9., 9., 3., 3., 3., 3., 3.,\n",
       "       3., 9., 9., 3., 3., 9., 3., 3., 9., 3., 3., 3.])"
      ]
     },
     "execution_count": 95,
     "metadata": {},
     "output_type": "execute_result"
    }
   ],
   "source": [
    "rfc_pred = rfc.predict(X_test)\n",
    "rfc_pred"
   ]
  },
  {
   "cell_type": "code",
   "execution_count": 96,
   "metadata": {},
   "outputs": [
    {
     "name": "stdout",
     "output_type": "stream",
     "text": [
      "              precision    recall  f1-score   support\n",
      "\n",
      "         3.0       1.00      1.00      1.00        66\n",
      "         9.0       1.00      1.00      1.00        31\n",
      "\n",
      "    accuracy                           1.00        97\n",
      "   macro avg       1.00      1.00      1.00        97\n",
      "weighted avg       1.00      1.00      1.00        97\n",
      "\n",
      "\n",
      "\n",
      "[[66  0]\n",
      " [ 0 31]]\n"
     ]
    }
   ],
   "source": [
    "print(classification_report(y_test,rfc_pred))\n",
    "print('\\n')\n",
    "print(confusion_matrix(y_test,rfc_pred))"
   ]
  }
 ],
 "metadata": {
  "kernelspec": {
   "display_name": "Python 3",
   "language": "python",
   "name": "python3"
  },
  "language_info": {
   "codemirror_mode": {
    "name": "ipython",
    "version": 3
   },
   "file_extension": ".py",
   "mimetype": "text/x-python",
   "name": "python",
   "nbconvert_exporter": "python",
   "pygments_lexer": "ipython3",
   "version": "3.8.3"
  }
 },
 "nbformat": 4,
 "nbformat_minor": 2
}
