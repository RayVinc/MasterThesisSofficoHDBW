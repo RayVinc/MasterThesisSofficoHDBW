{
 "cells": [
  {
   "cell_type": "code",
   "execution_count": 12,
   "metadata": {},
   "outputs": [],
   "source": [
    "import pandas as pd\n",
    "import numpy as np\n",
    "import matplotlib.pyplot as plt\n",
    "import seaborn as sns\n",
    "import pyodbc\n",
    "from sklearn.preprocessing import MinMaxScaler\n",
    "from sklearn.ensemble import IsolationForest\n",
    "\n",
    "%matplotlib inline"
   ]
  },
  {
   "cell_type": "code",
   "execution_count": 13,
   "metadata": {},
   "outputs": [],
   "source": [
    "conn = pyodbc.connect(r\"driver={SQL SERVER};server=LAPTOP-V88UBQAA\\SQLSERVERVINCENT;database=AdventureWorks2016;trusted_connection=YES;\")\n",
    "conx_string = \"driver={SQL SERVER};server=LAPTOP-V88UBQAA\\SQLSERVERVINCENT;database=AdventureWorks2016;trusted_connection=YES;\"\n",
    "query2 = \"SELECT TOP (1000) [PRS_START_TIME],[PRS_END_TIME],[PRS_STATE],[PRS_BUSINESS_KEY],try_convert(float, RIGHT(PRS_Business_key, len(PRS_BUSINESS_KEY) - charindex(':', prs_business_key))) as Business_Key, try_convert(float, DATEDIFF(MILLISECOND, PRS_START_TIME,PRS_END_TIME)) as Process_Time FROM [ORCHESTRA].[dbo].[ORC_PROCESS_STATE];\"\n",
    "SQLquery = pd.read_sql_query(query2, conn)\n",
    "conx = pyodbc.connect(conx_string);\n",
    "cursor = conx.cursor();\n",
    "cursor.execute(query2);\n",
    "data = cursor.fetchall()"
   ]
  },
  {
   "cell_type": "code",
   "execution_count": 14,
   "metadata": {},
   "outputs": [
    {
     "data": {
      "text/plain": [
       "pandas.core.frame.DataFrame"
      ]
     },
     "execution_count": 14,
     "metadata": {},
     "output_type": "execute_result"
    }
   ],
   "source": [
    "df = pd.DataFrame(SQLquery, columns=['PRS_STATE','Business_Key', 'Process_Time'])\n",
    "df = df.drop(31, axis=0)\n",
    "type(df)"
   ]
  },
  {
   "cell_type": "code",
   "execution_count": 34,
   "metadata": {},
   "outputs": [],
   "source": [
    "clf = IsolationForest(contamination=.10)\n",
    "clf.fit(df)\n",
    "predictions = clf.predict(df)"
   ]
  },
  {
   "cell_type": "code",
   "execution_count": 35,
   "metadata": {},
   "outputs": [
    {
     "data": {
      "text/plain": [
       "0.8975155279503105"
      ]
     },
     "execution_count": 35,
     "metadata": {},
     "output_type": "execute_result"
    }
   ],
   "source": [
    "(predictions>0).mean()"
   ]
  },
  {
   "cell_type": "code",
   "execution_count": 36,
   "metadata": {},
   "outputs": [
    {
     "data": {
      "text/plain": [
       "numpy.ndarray"
      ]
     },
     "execution_count": 36,
     "metadata": {},
     "output_type": "execute_result"
    }
   ],
   "source": [
    "outliers = np.where(predictions<0)\n",
    "type(outliers[0])"
   ]
  },
  {
   "cell_type": "code",
   "execution_count": 37,
   "metadata": {},
   "outputs": [],
   "source": [
    "#MinMaxPreProcessing\n",
    "\n",
    "df2 = df\n",
    "#df3['Labels'] = kmeans.labels_.tolist()\n",
    "\n",
    "scaler = MinMaxScaler()\n",
    "\n",
    "scaler.fit(df2[['Process_Time']])\n",
    "df2['Process_Time'] = scaler.transform(df2[['Process_Time']])\n"
   ]
  },
  {
   "cell_type": "code",
   "execution_count": 38,
   "metadata": {},
   "outputs": [
    {
     "data": {
      "image/png": "[encoded data removed]",
      "text/plain": [
       "<Figure size 432x288 with 1 Axes>"
      ]
     },
     "metadata": {
      "needs_background": "light"
     },
     "output_type": "display_data"
    }
   ],
   "source": [
    "plt.scatter(df2['Business_Key'], df2['Process_Time'])\n",
    "j = 0\n",
    "for i in outliers[0]:\n",
    "    #print(i)\n",
    "    #as row 31 was deleted due to being an outlier, it has to be corrected\n",
    "    if i > 30:\n",
    "        j = i + 1\n",
    "    plt.scatter(df2['Business_Key'][j], df2['Process_Time'][j], color='red')\n"
   ]
  },
  {
   "cell_type": "code",
   "execution_count": null,
   "metadata": {},
   "outputs": [],
   "source": []
  }
 ],
 "metadata": {
  "kernelspec": {
   "display_name": "Python 3",
   "language": "python",
   "name": "python3"
  },
  "language_info": {
   "codemirror_mode": {
    "name": "ipython",
    "version": 3
   },
   "file_extension": ".py",
   "mimetype": "text/x-python",
   "name": "python",
   "nbconvert_exporter": "python",
   "pygments_lexer": "ipython3",
   "version": "3.8.3"
  }
 },
 "nbformat": 4,
 "nbformat_minor": 4
}
